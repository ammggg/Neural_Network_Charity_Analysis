{
 "cells": [
  {
   "cell_type": "code",
   "execution_count": 1,
   "id": "291baa4f",
   "metadata": {},
   "outputs": [],
   "source": [
    "# Import our dependencies\n",
    "import pandas as pd\n",
    "import matplotlib as plt\n",
    "from sklearn.datasets import make_blobs\n",
    "import sklearn as skl\n",
    "import tensorflow as tf"
   ]
  },
  {
   "cell_type": "code",
   "execution_count": 2,
   "id": "70ba074f",
   "metadata": {},
   "outputs": [
    {
     "data": {
      "text/plain": [
       "<AxesSubplot:xlabel='Feature 1', ylabel='Feature 2'>"
      ]
     },
     "execution_count": 2,
     "metadata": {},
     "output_type": "execute_result"
    },
    {
     "data": {
      "image/png": "[encoded data removed]",
      "text/plain": [
       "<Figure size 432x288 with 2 Axes>"
      ]
     },
     "metadata": {
      "needs_background": "light"
     },
     "output_type": "display_data"
    }
   ],
   "source": [
    "# Generate dummy dataset\n",
    "X, y = make_blobs(n_samples=1000, centers=2, n_features=2, random_state=78)\n",
    "\n",
    "# Creating a DataFrame with the dummy data\n",
    "df = pd.DataFrame(X, columns=[\"Feature 1\", \"Feature 2\"])\n",
    "df[\"Target\"] = y\n",
    "\n",
    "# Plotting the dummy data\n",
    "df.plot.scatter(x=\"Feature 1\", y=\"Feature 2\", c=\"Target\", colormap=\"winter\")"
   ]
  },
  {
   "cell_type": "code",
   "execution_count": 3,
   "id": "83fd4fa6",
   "metadata": {},
   "outputs": [],
   "source": [
    "# Use sklearn to split dataset\n",
    "from sklearn.model_selection import train_test_split\n",
    "X_train, X_test, y_train, y_test = train_test_split(X, y, random_state=78)"
   ]
  },
  {
   "cell_type": "code",
   "execution_count": 4,
   "id": "219873a1",
   "metadata": {},
   "outputs": [],
   "source": [
    "# Create scaler instance\n",
    "X_scaler = skl.preprocessing.StandardScaler()\n",
    "\n",
    "# Fit the scaler\n",
    "X_scaler.fit(X_train)\n",
    "\n",
    "# Scale the data\n",
    "X_train_scaled = X_scaler.transform(X_train)\n",
    "X_test_scaled = X_scaler.transform(X_test)"
   ]
  },
  {
   "cell_type": "code",
   "execution_count": 5,
   "id": "356b3fb8",
   "metadata": {},
   "outputs": [],
   "source": [
    "# Create the Keras Sequential model\n",
    "nn_model = tf.keras.models.Sequential()"
   ]
  },
  {
   "cell_type": "code",
   "execution_count": 6,
   "id": "dfd16d29",
   "metadata": {},
   "outputs": [],
   "source": [
    "# Add our first Dense layer, including the input layer\n",
    "nn_model.add(tf.keras.layers.Dense(units=1, activation=\"relu\", input_dim=2))"
   ]
  },
  {
   "cell_type": "code",
   "execution_count": 7,
   "id": "929ea702",
   "metadata": {},
   "outputs": [],
   "source": [
    "# Add the output layer that uses a probability activation function\n",
    "nn_model.add(tf.keras.layers.Dense(units=1, activation=\"sigmoid\"))"
   ]
  },
  {
   "cell_type": "code",
   "execution_count": 8,
   "id": "2a1386f3",
   "metadata": {},
   "outputs": [
    {
     "name": "stdout",
     "output_type": "stream",
     "text": [
      "Model: \"sequential\"\n",
      "_________________________________________________________________\n",
      "Layer (type)                 Output Shape              Param #   \n",
      "=================================================================\n",
      "dense (Dense)                (None, 1)                 3         \n",
      "_________________________________________________________________\n",
      "dense_1 (Dense)              (None, 1)                 2         \n",
      "=================================================================\n",
      "Total params: 5\n",
      "Trainable params: 5\n",
      "Non-trainable params: 0\n",
      "_________________________________________________________________\n"
     ]
    }
   ],
   "source": [
    "# Check the structure of the Sequential model\n",
    "nn_model.summary()"
   ]
  },
  {
   "cell_type": "code",
   "execution_count": 9,
   "id": "a207183f",
   "metadata": {},
   "outputs": [],
   "source": [
    "# Compile the Sequential model together and customize metrics\n",
    "nn_model.compile(loss=\"binary_crossentropy\", optimizer=\"adam\", metrics=[\"accuracy\"])"
   ]
  },
  {
   "cell_type": "code",
   "execution_count": 10,
   "id": "a9f8a2b7",
   "metadata": {},
   "outputs": [
    {
     "name": "stdout",
     "output_type": "stream",
     "text": [
      "Epoch 1/100\n",
      "24/24 [==============================] - 0s 650us/step - loss: 0.6971 - accuracy: 0.0840\n",
      "Epoch 2/100\n",
      "24/24 [==============================] - 0s 476us/step - loss: 0.6913 - accuracy: 0.5067\n",
      "Epoch 3/100\n",
      "24/24 [==============================] - 0s 477us/step - loss: 0.6855 - accuracy: 0.5067\n",
      "Epoch 4/100\n",
      "24/24 [==============================] - 0s 520us/step - loss: 0.6784 - accuracy: 0.5067\n",
      "Epoch 5/100\n",
      "24/24 [==============================] - 0s 477us/step - loss: 0.6697 - accuracy: 0.5067\n",
      "Epoch 6/100\n",
      "24/24 [==============================] - 0s 477us/step - loss: 0.6594 - accuracy: 0.5067\n",
      "Epoch 7/100\n",
      "24/24 [==============================] - 0s 520us/step - loss: 0.6478 - accuracy: 0.5067\n",
      "Epoch 8/100\n",
      "24/24 [==============================] - 0s 477us/step - loss: 0.6348 - accuracy: 0.9813\n",
      "Epoch 9/100\n",
      "24/24 [==============================] - 0s 543us/step - loss: 0.6210 - accuracy: 1.0000\n",
      "Epoch 10/100\n",
      "24/24 [==============================] - 0s 477us/step - loss: 0.6059 - accuracy: 1.0000\n",
      "Epoch 11/100\n",
      "24/24 [==============================] - 0s 519us/step - loss: 0.5904 - accuracy: 1.0000\n",
      "Epoch 12/100\n",
      "24/24 [==============================] - 0s 477us/step - loss: 0.5743 - accuracy: 1.0000\n",
      "Epoch 13/100\n",
      "24/24 [==============================] - 0s 478us/step - loss: 0.5576 - accuracy: 1.0000\n",
      "Epoch 14/100\n",
      "24/24 [==============================] - 0s 478us/step - loss: 0.5409 - accuracy: 1.0000\n",
      "Epoch 15/100\n",
      "24/24 [==============================] - 0s 519us/step - loss: 0.5240 - accuracy: 1.0000\n",
      "Epoch 16/100\n",
      "24/24 [==============================] - 0s 477us/step - loss: 0.5074 - accuracy: 1.0000\n",
      "Epoch 17/100\n",
      "24/24 [==============================] - 0s 477us/step - loss: 0.4908 - accuracy: 1.0000\n",
      "Epoch 18/100\n",
      "24/24 [==============================] - 0s 478us/step - loss: 0.4745 - accuracy: 1.0000\n",
      "Epoch 19/100\n",
      "24/24 [==============================] - 0s 520us/step - loss: 0.4586 - accuracy: 1.0000\n",
      "Epoch 20/100\n",
      "24/24 [==============================] - 0s 468us/step - loss: 0.4431 - accuracy: 1.0000\n",
      "Epoch 21/100\n",
      "24/24 [==============================] - 0s 476us/step - loss: 0.4281 - accuracy: 1.0000\n",
      "Epoch 22/100\n",
      "24/24 [==============================] - 0s 520us/step - loss: 0.4136 - accuracy: 1.0000\n",
      "Epoch 23/100\n",
      "24/24 [==============================] - 0s 477us/step - loss: 0.3998 - accuracy: 1.0000\n",
      "Epoch 24/100\n",
      "24/24 [==============================] - 0s 520us/step - loss: 0.3864 - accuracy: 1.0000\n",
      "Epoch 25/100\n",
      "24/24 [==============================] - 0s 520us/step - loss: 0.3737 - accuracy: 1.0000\n",
      "Epoch 26/100\n",
      "24/24 [==============================] - 0s 477us/step - loss: 0.3615 - accuracy: 1.0000\n",
      "Epoch 27/100\n",
      "24/24 [==============================] - 0s 477us/step - loss: 0.3498 - accuracy: 1.0000\n",
      "Epoch 28/100\n",
      "24/24 [==============================] - 0s 478us/step - loss: 0.3387 - accuracy: 1.0000\n",
      "Epoch 29/100\n",
      "24/24 [==============================] - 0s 520us/step - loss: 0.3280 - accuracy: 1.0000\n",
      "Epoch 30/100\n",
      "24/24 [==============================] - 0s 522us/step - loss: 0.3179 - accuracy: 1.0000\n",
      "Epoch 31/100\n",
      "24/24 [==============================] - 0s 477us/step - loss: 0.3083 - accuracy: 1.0000\n",
      "Epoch 32/100\n",
      "24/24 [==============================] - 0s 478us/step - loss: 0.2991 - accuracy: 1.0000\n",
      "Epoch 33/100\n",
      "24/24 [==============================] - 0s 477us/step - loss: 0.2903 - accuracy: 1.0000\n",
      "Epoch 34/100\n",
      "24/24 [==============================] - 0s 562us/step - loss: 0.2820 - accuracy: 1.0000\n",
      "Epoch 35/100\n",
      "24/24 [==============================] - 0s 520us/step - loss: 0.2740 - accuracy: 1.0000\n",
      "Epoch 36/100\n",
      "24/24 [==============================] - 0s 520us/step - loss: 0.2663 - accuracy: 1.0000\n",
      "Epoch 37/100\n",
      "24/24 [==============================] - 0s 477us/step - loss: 0.2590 - accuracy: 1.0000\n",
      "Epoch 38/100\n",
      "24/24 [==============================] - 0s 495us/step - loss: 0.2521 - accuracy: 1.0000\n",
      "Epoch 39/100\n",
      "24/24 [==============================] - 0s 477us/step - loss: 0.2454 - accuracy: 1.0000\n",
      "Epoch 40/100\n",
      "24/24 [==============================] - 0s 477us/step - loss: 0.2390 - accuracy: 1.0000\n",
      "Epoch 41/100\n",
      "24/24 [==============================] - 0s 520us/step - loss: 0.2329 - accuracy: 1.0000\n",
      "Epoch 42/100\n",
      "24/24 [==============================] - 0s 520us/step - loss: 0.2270 - accuracy: 1.0000\n",
      "Epoch 43/100\n",
      "24/24 [==============================] - 0s 522us/step - loss: 0.2213 - accuracy: 1.0000\n",
      "Epoch 44/100\n",
      "24/24 [==============================] - 0s 520us/step - loss: 0.2159 - accuracy: 1.0000\n",
      "Epoch 45/100\n",
      "24/24 [==============================] - 0s 477us/step - loss: 0.2107 - accuracy: 1.0000\n",
      "Epoch 46/100\n",
      "24/24 [==============================] - 0s 477us/step - loss: 0.2057 - accuracy: 1.0000\n",
      "Epoch 47/100\n",
      "24/24 [==============================] - 0s 477us/step - loss: 0.2008 - accuracy: 1.0000\n",
      "Epoch 48/100\n",
      "24/24 [==============================] - 0s 477us/step - loss: 0.1962 - accuracy: 1.0000\n",
      "Epoch 49/100\n",
      "24/24 [==============================] - 0s 564us/step - loss: 0.1917 - accuracy: 1.0000\n",
      "Epoch 50/100\n",
      "24/24 [==============================] - 0s 607us/step - loss: 0.1873 - accuracy: 1.0000\n",
      "Epoch 51/100\n",
      "24/24 [==============================] - 0s 733us/step - loss: 0.1831 - accuracy: 1.0000\n",
      "Epoch 52/100\n",
      "24/24 [==============================] - 0s 650us/step - loss: 0.1791 - accuracy: 1.0000\n",
      "Epoch 53/100\n",
      "24/24 [==============================] - 0s 607us/step - loss: 0.1752 - accuracy: 1.0000\n",
      "Epoch 54/100\n",
      "24/24 [==============================] - 0s 564us/step - loss: 0.1714 - accuracy: 1.0000\n",
      "Epoch 55/100\n",
      "24/24 [==============================] - 0s 631us/step - loss: 0.1678 - accuracy: 1.0000\n",
      "Epoch 56/100\n",
      "24/24 [==============================] - 0s 564us/step - loss: 0.1642 - accuracy: 1.0000\n",
      "Epoch 57/100\n",
      "24/24 [==============================] - 0s 564us/step - loss: 0.1608 - accuracy: 1.0000\n",
      "Epoch 58/100\n",
      "24/24 [==============================] - 0s 564us/step - loss: 0.1575 - accuracy: 1.0000\n",
      "Epoch 59/100\n",
      "24/24 [==============================] - 0s 520us/step - loss: 0.1543 - accuracy: 1.0000\n",
      "Epoch 60/100\n",
      "24/24 [==============================] - 0s 564us/step - loss: 0.1512 - accuracy: 1.0000\n",
      "Epoch 61/100\n",
      "24/24 [==============================] - 0s 494us/step - loss: 0.1482 - accuracy: 1.0000\n",
      "Epoch 62/100\n",
      "24/24 [==============================] - 0s 476us/step - loss: 0.1452 - accuracy: 1.0000\n",
      "Epoch 63/100\n",
      "24/24 [==============================] - 0s 477us/step - loss: 0.1424 - accuracy: 1.0000\n",
      "Epoch 64/100\n",
      "24/24 [==============================] - 0s 477us/step - loss: 0.1396 - accuracy: 1.0000\n",
      "Epoch 65/100\n",
      "24/24 [==============================] - 0s 520us/step - loss: 0.1369 - accuracy: 1.0000\n",
      "Epoch 66/100\n",
      "24/24 [==============================] - 0s 476us/step - loss: 0.1343 - accuracy: 1.0000\n",
      "Epoch 67/100\n",
      "24/24 [==============================] - 0s 477us/step - loss: 0.1318 - accuracy: 1.0000\n",
      "Epoch 68/100\n",
      "24/24 [==============================] - 0s 477us/step - loss: 0.1293 - accuracy: 1.0000\n",
      "Epoch 69/100\n",
      "24/24 [==============================] - 0s 478us/step - loss: 0.1269 - accuracy: 1.0000\n",
      "Epoch 70/100\n",
      "24/24 [==============================] - 0s 477us/step - loss: 0.1246 - accuracy: 1.0000\n",
      "Epoch 71/100\n",
      "24/24 [==============================] - 0s 520us/step - loss: 0.1223 - accuracy: 1.0000\n",
      "Epoch 72/100\n",
      "24/24 [==============================] - 0s 477us/step - loss: 0.1201 - accuracy: 1.0000\n",
      "Epoch 73/100\n",
      "24/24 [==============================] - 0s 475us/step - loss: 0.1179 - accuracy: 1.0000\n",
      "Epoch 74/100\n",
      "24/24 [==============================] - 0s 519us/step - loss: 0.1158 - accuracy: 1.0000\n",
      "Epoch 75/100\n",
      "24/24 [==============================] - 0s 520us/step - loss: 0.1138 - accuracy: 1.0000\n",
      "Epoch 76/100\n",
      "24/24 [==============================] - 0s 477us/step - loss: 0.1117 - accuracy: 1.0000\n",
      "Epoch 77/100\n",
      "24/24 [==============================] - 0s 477us/step - loss: 0.1098 - accuracy: 1.0000\n",
      "Epoch 78/100\n",
      "24/24 [==============================] - 0s 435us/step - loss: 0.1079 - accuracy: 1.0000\n",
      "Epoch 79/100\n",
      "24/24 [==============================] - 0s 478us/step - loss: 0.1060 - accuracy: 1.0000\n",
      "Epoch 80/100\n",
      "24/24 [==============================] - 0s 519us/step - loss: 0.1042 - accuracy: 1.0000\n",
      "Epoch 81/100\n"
     ]
    },
    {
     "name": "stdout",
     "output_type": "stream",
     "text": [
      "24/24 [==============================] - 0s 477us/step - loss: 0.1025 - accuracy: 1.0000\n",
      "Epoch 82/100\n",
      "24/24 [==============================] - 0s 477us/step - loss: 0.1007 - accuracy: 1.0000\n",
      "Epoch 83/100\n",
      "24/24 [==============================] - 0s 477us/step - loss: 0.0990 - accuracy: 1.0000\n",
      "Epoch 84/100\n",
      "24/24 [==============================] - 0s 435us/step - loss: 0.0974 - accuracy: 1.0000\n",
      "Epoch 85/100\n",
      "24/24 [==============================] - 0s 519us/step - loss: 0.0958 - accuracy: 1.0000\n",
      "Epoch 86/100\n",
      "24/24 [==============================] - 0s 564us/step - loss: 0.0942 - accuracy: 1.0000\n",
      "Epoch 87/100\n",
      "24/24 [==============================] - 0s 564us/step - loss: 0.0927 - accuracy: 1.0000\n",
      "Epoch 88/100\n",
      "24/24 [==============================] - 0s 477us/step - loss: 0.0912 - accuracy: 1.0000\n",
      "Epoch 89/100\n",
      "24/24 [==============================] - 0s 520us/step - loss: 0.0897 - accuracy: 1.0000\n",
      "Epoch 90/100\n",
      "24/24 [==============================] - 0s 737us/step - loss: 0.0882 - accuracy: 1.0000\n",
      "Epoch 91/100\n",
      "24/24 [==============================] - 0s 607us/step - loss: 0.0868 - accuracy: 1.0000\n",
      "Epoch 92/100\n",
      "24/24 [==============================] - 0s 607us/step - loss: 0.0855 - accuracy: 1.0000\n",
      "Epoch 93/100\n",
      "24/24 [==============================] - 0s 564us/step - loss: 0.0841 - accuracy: 1.0000\n",
      "Epoch 94/100\n",
      "24/24 [==============================] - 0s 651us/step - loss: 0.0828 - accuracy: 1.0000\n",
      "Epoch 95/100\n",
      "24/24 [==============================] - 0s 607us/step - loss: 0.0815 - accuracy: 1.0000\n",
      "Epoch 96/100\n",
      "24/24 [==============================] - 0s 607us/step - loss: 0.0802 - accuracy: 1.0000\n",
      "Epoch 97/100\n",
      "24/24 [==============================] - 0s 607us/step - loss: 0.0790 - accuracy: 1.0000\n",
      "Epoch 98/100\n",
      "24/24 [==============================] - 0s 564us/step - loss: 0.0778 - accuracy: 1.0000\n",
      "Epoch 99/100\n",
      "24/24 [==============================] - 0s 607us/step - loss: 0.0766 - accuracy: 1.0000\n",
      "Epoch 100/100\n",
      "24/24 [==============================] - 0s 607us/step - loss: 0.0754 - accuracy: 1.0000\n"
     ]
    }
   ],
   "source": [
    "# Fit the model to the training data\n",
    "fit_model = nn_model.fit(X_train_scaled, y_train, epochs=100)"
   ]
  },
  {
   "cell_type": "code",
   "execution_count": 11,
   "id": "82a0ab66",
   "metadata": {},
   "outputs": [
    {
     "data": {
      "text/plain": [
       "<AxesSubplot:>"
      ]
     },
     "execution_count": 11,
     "metadata": {},
     "output_type": "execute_result"
    },
    {
     "data": {
      "image/png": "[encoded data removed]",
      "text/plain": [
       "<Figure size 432x288 with 1 Axes>"
      ]
     },
     "metadata": {
      "needs_background": "light"
     },
     "output_type": "display_data"
    }
   ],
   "source": [
    "# Create a DataFrame containing training history\n",
    "history_df = pd.DataFrame(fit_model.history, index=range(1,len(fit_model.history[\"loss\"])+1))\n",
    "\n",
    "# Plot the loss\n",
    "history_df.plot(y=\"loss\")"
   ]
  },
  {
   "cell_type": "code",
   "execution_count": 12,
   "id": "48cc43c3",
   "metadata": {},
   "outputs": [
    {
     "data": {
      "text/plain": [
       "<AxesSubplot:>"
      ]
     },
     "execution_count": 12,
     "metadata": {},
     "output_type": "execute_result"
    },
    {
     "data": {
      "image/png": "[encoded data removed]",
      "text/plain": [
       "<Figure size 432x288 with 1 Axes>"
      ]
     },
     "metadata": {
      "needs_background": "light"
     },
     "output_type": "display_data"
    }
   ],
   "source": [
    "# Plot the accuracy\n",
    "history_df.plot(y=\"accuracy\")"
   ]
  },
  {
   "cell_type": "code",
   "execution_count": 13,
   "id": "63f7a6a9",
   "metadata": {},
   "outputs": [
    {
     "name": "stdout",
     "output_type": "stream",
     "text": [
      "8/8 - 0s - loss: 0.0770 - accuracy: 1.0000\n",
      "Loss: 0.07700257003307343, Accuracy: 1.0\n"
     ]
    }
   ],
   "source": [
    "# Evaluate the model using the test data\n",
    "model_loss, model_accuracy = nn_model.evaluate(X_test_scaled,y_test,verbose=2)\n",
    "print(f\"Loss: {model_loss}, Accuracy: {model_accuracy}\")"
   ]
  },
  {
   "cell_type": "code",
   "execution_count": 14,
   "id": "dcd0290b",
   "metadata": {
    "scrolled": true
   },
   "outputs": [
    {
     "data": {
      "text/plain": [
       "array([[0],\n",
       "       [1],\n",
       "       [0],\n",
       "       [1],\n",
       "       [0],\n",
       "       [0],\n",
       "       [1],\n",
       "       [1],\n",
       "       [1],\n",
       "       [0]])"
      ]
     },
     "execution_count": 14,
     "metadata": {},
     "output_type": "execute_result"
    }
   ],
   "source": [
    "# Predict the classification of a new set of blob data\n",
    "new_X, new_Y = make_blobs(n_samples=10, centers=2, n_features=2, random_state=78)\n",
    "new_X_scaled = X_scaler.transform(new_X)\n",
    "(nn_model.predict(new_X_scaled) > 0.5).astype(\"int32\")"
   ]
  },
  {
   "cell_type": "code",
   "execution_count": 15,
   "id": "bee346af",
   "metadata": {},
   "outputs": [
    {
     "data": {
      "text/plain": [
       "<AxesSubplot:xlabel='Feature 1', ylabel='Feature 2'>"
      ]
     },
     "execution_count": 15,
     "metadata": {},
     "output_type": "execute_result"
    },
    {
     "data": {
      "image/png": "[encoded data removed]",
      "text/plain": [
       "<Figure size 432x288 with 2 Axes>"
      ]
     },
     "metadata": {
      "needs_background": "light"
     },
     "output_type": "display_data"
    }
   ],
   "source": [
    "from sklearn.datasets import make_moons\n",
    "\n",
    "# Creating dummy nonlinear data\n",
    "X_moons, y_moons = make_moons(n_samples=1000, noise=0.08, random_state=78)\n",
    "\n",
    "# Transforming y_moons to a vertical vector\n",
    "y_moons = y_moons.reshape(-1, 1)\n",
    "\n",
    "# Creating a DataFrame to plot the nonlinear dummy data\n",
    "df_moons = pd.DataFrame(X_moons, columns=[\"Feature 1\", \"Feature 2\"])\n",
    "df_moons[\"Target\"] = y_moons\n",
    "\n",
    "# Plot the nonlinear dummy data\n",
    "df_moons.plot.scatter(x=\"Feature 1\",y=\"Feature 2\", c=\"Target\",colormap=\"winter\")"
   ]
  },
  {
   "cell_type": "code",
   "execution_count": 16,
   "id": "7d32a670",
   "metadata": {},
   "outputs": [],
   "source": [
    "# Create training and testing sets\n",
    "X_moon_train, X_moon_test, y_moon_train, y_moon_test = train_test_split(\n",
    "    X_moons, y_moons, random_state=78\n",
    ")\n",
    "\n",
    "# Create the scaler instance\n",
    "X_moon_scaler = skl.preprocessing.StandardScaler()\n",
    "\n",
    "# Fit the scaler\n",
    "X_moon_scaler.fit(X_moon_train)\n",
    "\n",
    "# Scale the data\n",
    "X_moon_train_scaled = X_moon_scaler.transform(X_moon_train)\n",
    "X_moon_test_scaled = X_moon_scaler.transform(X_moon_test)"
   ]
  },
  {
   "cell_type": "code",
   "execution_count": 17,
   "id": "9c8eb9f3",
   "metadata": {},
   "outputs": [
    {
     "name": "stdout",
     "output_type": "stream",
     "text": [
      "Epoch 1/100\n",
      "24/24 [==============================] - 0s 953us/step - loss: 1.0016 - accuracy: 0.5053\n",
      "Epoch 2/100\n",
      "24/24 [==============================] - 0s 958us/step - loss: 0.9178 - accuracy: 0.5200\n",
      "Epoch 3/100\n",
      "24/24 [==============================] - 0s 712us/step - loss: 0.8569 - accuracy: 0.5267\n",
      "Epoch 4/100\n",
      "24/24 [==============================] - 0s 737us/step - loss: 0.8142 - accuracy: 0.5347\n",
      "Epoch 5/100\n",
      "24/24 [==============================] - 0s 737us/step - loss: 0.7810 - accuracy: 0.5440\n",
      "Epoch 6/100\n",
      "24/24 [==============================] - 0s 784us/step - loss: 0.7538 - accuracy: 0.5507\n",
      "Epoch 7/100\n",
      "24/24 [==============================] - 0s 867us/step - loss: 0.7307 - accuracy: 0.5533\n",
      "Epoch 8/100\n",
      "24/24 [==============================] - 0s 781us/step - loss: 0.7107 - accuracy: 0.5627\n",
      "Epoch 9/100\n",
      "24/24 [==============================] - 0s 781us/step - loss: 0.6936 - accuracy: 0.5720\n",
      "Epoch 10/100\n",
      "24/24 [==============================] - 0s 780us/step - loss: 0.6778 - accuracy: 0.5827\n",
      "Epoch 11/100\n",
      "24/24 [==============================] - 0s 751us/step - loss: 0.6635 - accuracy: 0.5880\n",
      "Epoch 12/100\n",
      "24/24 [==============================] - 0s 822us/step - loss: 0.6502 - accuracy: 0.5907\n",
      "Epoch 13/100\n",
      "24/24 [==============================] - 0s 782us/step - loss: 0.6379 - accuracy: 0.6013\n",
      "Epoch 14/100\n",
      "24/24 [==============================] - 0s 824us/step - loss: 0.6267 - accuracy: 0.6053\n",
      "Epoch 15/100\n",
      "24/24 [==============================] - 0s 736us/step - loss: 0.6159 - accuracy: 0.6133\n",
      "Epoch 16/100\n",
      "24/24 [==============================] - 0s 824us/step - loss: 0.6061 - accuracy: 0.6160\n",
      "Epoch 17/100\n",
      "24/24 [==============================] - 0s 912us/step - loss: 0.5966 - accuracy: 0.6267\n",
      "Epoch 18/100\n",
      "24/24 [==============================] - 0s 877us/step - loss: 0.5876 - accuracy: 0.6307\n",
      "Epoch 19/100\n",
      "24/24 [==============================] - 0s 914us/step - loss: 0.5793 - accuracy: 0.6333\n",
      "Epoch 20/100\n",
      "24/24 [==============================] - 0s 840us/step - loss: 0.5712 - accuracy: 0.6373\n",
      "Epoch 21/100\n",
      "24/24 [==============================] - 0s 835us/step - loss: 0.5637 - accuracy: 0.6453\n",
      "Epoch 22/100\n",
      "24/24 [==============================] - 0s 869us/step - loss: 0.5564 - accuracy: 0.6493\n",
      "Epoch 23/100\n",
      "24/24 [==============================] - 0s 866us/step - loss: 0.5494 - accuracy: 0.6547\n",
      "Epoch 24/100\n",
      "24/24 [==============================] - 0s 848us/step - loss: 0.5427 - accuracy: 0.6573\n",
      "Epoch 25/100\n",
      "24/24 [==============================] - ETA: 0s - loss: 0.6241 - accuracy: 0.56 - 0s 889us/step - loss: 0.5363 - accuracy: 0.6600\n",
      "Epoch 26/100\n",
      "24/24 [==============================] - 0s 871us/step - loss: 0.5300 - accuracy: 0.6667\n",
      "Epoch 27/100\n",
      "24/24 [==============================] - 0s 800us/step - loss: 0.5240 - accuracy: 0.6720\n",
      "Epoch 28/100\n",
      "24/24 [==============================] - 0s 816us/step - loss: 0.5183 - accuracy: 0.6773\n",
      "Epoch 29/100\n",
      "24/24 [==============================] - 0s 812us/step - loss: 0.5127 - accuracy: 0.6813\n",
      "Epoch 30/100\n",
      "24/24 [==============================] - 0s 884us/step - loss: 0.5073 - accuracy: 0.6867\n",
      "Epoch 31/100\n",
      "24/24 [==============================] - 0s 827us/step - loss: 0.5020 - accuracy: 0.6907\n",
      "Epoch 32/100\n",
      "24/24 [==============================] - 0s 824us/step - loss: 0.4968 - accuracy: 0.6933\n",
      "Epoch 33/100\n",
      "24/24 [==============================] - 0s 814us/step - loss: 0.4919 - accuracy: 0.6973\n",
      "Epoch 34/100\n",
      "24/24 [==============================] - 0s 824us/step - loss: 0.4869 - accuracy: 0.7013\n",
      "Epoch 35/100\n",
      "24/24 [==============================] - 0s 821us/step - loss: 0.4821 - accuracy: 0.7013\n",
      "Epoch 36/100\n",
      "24/24 [==============================] - 0s 862us/step - loss: 0.4774 - accuracy: 0.7080\n",
      "Epoch 37/100\n",
      "24/24 [==============================] - 0s 899us/step - loss: 0.4728 - accuracy: 0.7107\n",
      "Epoch 38/100\n",
      "24/24 [==============================] - 0s 791us/step - loss: 0.4684 - accuracy: 0.7160\n",
      "Epoch 39/100\n",
      "24/24 [==============================] - 0s 863us/step - loss: 0.4638 - accuracy: 0.7187\n",
      "Epoch 40/100\n",
      "24/24 [==============================] - 0s 912us/step - loss: 0.4594 - accuracy: 0.7213\n",
      "Epoch 41/100\n",
      "24/24 [==============================] - 0s 779us/step - loss: 0.4550 - accuracy: 0.7293\n",
      "Epoch 42/100\n",
      "24/24 [==============================] - 0s 867us/step - loss: 0.4508 - accuracy: 0.7320\n",
      "Epoch 43/100\n",
      "24/24 [==============================] - 0s 1ms/step - loss: 0.4466 - accuracy: 0.7333\n",
      "Epoch 44/100\n",
      "24/24 [==============================] - 0s 990us/step - loss: 0.4424 - accuracy: 0.7347\n",
      "Epoch 45/100\n",
      "24/24 [==============================] - 0s 1ms/step - loss: 0.4383 - accuracy: 0.7440\n",
      "Epoch 46/100\n",
      "24/24 [==============================] - 0s 1ms/step - loss: 0.4342 - accuracy: 0.7507\n",
      "Epoch 47/100\n",
      "24/24 [==============================] - 0s 1ms/step - loss: 0.4301 - accuracy: 0.7507\n",
      "Epoch 48/100\n",
      "24/24 [==============================] - 0s 964us/step - loss: 0.4261 - accuracy: 0.7560\n",
      "Epoch 49/100\n",
      "24/24 [==============================] - 0s 1ms/step - loss: 0.4222 - accuracy: 0.7600\n",
      "Epoch 50/100\n",
      "24/24 [==============================] - 0s 1ms/step - loss: 0.4183 - accuracy: 0.7627\n",
      "Epoch 51/100\n",
      "24/24 [==============================] - 0s 1ms/step - loss: 0.4143 - accuracy: 0.7640\n",
      "Epoch 52/100\n",
      "24/24 [==============================] - 0s 1ms/step - loss: 0.4105 - accuracy: 0.7667\n",
      "Epoch 53/100\n",
      "24/24 [==============================] - 0s 1ms/step - loss: 0.4066 - accuracy: 0.7720\n",
      "Epoch 54/100\n",
      "24/24 [==============================] - 0s 970us/step - loss: 0.4028 - accuracy: 0.7733\n",
      "Epoch 55/100\n",
      "24/24 [==============================] - 0s 997us/step - loss: 0.3990 - accuracy: 0.7813\n",
      "Epoch 56/100\n",
      "24/24 [==============================] - 0s 932us/step - loss: 0.3952 - accuracy: 0.7840\n",
      "Epoch 57/100\n",
      "24/24 [==============================] - 0s 945us/step - loss: 0.3916 - accuracy: 0.7867\n",
      "Epoch 58/100\n",
      "24/24 [==============================] - 0s 781us/step - loss: 0.3879 - accuracy: 0.7907\n",
      "Epoch 59/100\n",
      "24/24 [==============================] - 0s 739us/step - loss: 0.3843 - accuracy: 0.7960\n",
      "Epoch 60/100\n",
      "24/24 [==============================] - 0s 816us/step - loss: 0.3807 - accuracy: 0.8040\n",
      "Epoch 61/100\n",
      "24/24 [==============================] - 0s 811us/step - loss: 0.3771 - accuracy: 0.8053\n",
      "Epoch 62/100\n",
      "24/24 [==============================] - 0s 773us/step - loss: 0.3737 - accuracy: 0.8053\n",
      "Epoch 63/100\n",
      "24/24 [==============================] - 0s 780us/step - loss: 0.3703 - accuracy: 0.8080\n",
      "Epoch 64/100\n",
      "24/24 [==============================] - 0s 756us/step - loss: 0.3671 - accuracy: 0.8093\n",
      "Epoch 65/100\n",
      "24/24 [==============================] - 0s 781us/step - loss: 0.3639 - accuracy: 0.8120\n",
      "Epoch 66/100\n",
      "24/24 [==============================] - 0s 774us/step - loss: 0.3606 - accuracy: 0.8147\n",
      "Epoch 67/100\n",
      "24/24 [==============================] - 0s 798us/step - loss: 0.3576 - accuracy: 0.8187\n",
      "Epoch 68/100\n",
      "24/24 [==============================] - 0s 753us/step - loss: 0.3547 - accuracy: 0.8213\n",
      "Epoch 69/100\n",
      "24/24 [==============================] - 0s 775us/step - loss: 0.3518 - accuracy: 0.8227\n",
      "Epoch 70/100\n",
      "24/24 [==============================] - 0s 737us/step - loss: 0.3489 - accuracy: 0.8227\n",
      "Epoch 71/100\n",
      "24/24 [==============================] - 0s 822us/step - loss: 0.3462 - accuracy: 0.8227\n",
      "Epoch 72/100\n",
      "24/24 [==============================] - 0s 822us/step - loss: 0.3434 - accuracy: 0.8227\n",
      "Epoch 73/100\n",
      "24/24 [==============================] - 0s 783us/step - loss: 0.3407 - accuracy: 0.8253\n",
      "Epoch 74/100\n",
      "24/24 [==============================] - 0s 726us/step - loss: 0.3382 - accuracy: 0.8253\n",
      "Epoch 75/100\n",
      "24/24 [==============================] - 0s 845us/step - loss: 0.3356 - accuracy: 0.8267\n",
      "Epoch 76/100\n",
      "24/24 [==============================] - 0s 811us/step - loss: 0.3333 - accuracy: 0.8267\n",
      "Epoch 77/100\n",
      "24/24 [==============================] - 0s 780us/step - loss: 0.3309 - accuracy: 0.8280\n",
      "Epoch 78/100\n",
      "24/24 [==============================] - 0s 753us/step - loss: 0.3286 - accuracy: 0.8280\n",
      "Epoch 79/100\n",
      "24/24 [==============================] - 0s 798us/step - loss: 0.3263 - accuracy: 0.8307\n",
      "Epoch 80/100\n",
      "24/24 [==============================] - 0s 822us/step - loss: 0.3241 - accuracy: 0.8333\n",
      "Epoch 81/100\n"
     ]
    },
    {
     "name": "stdout",
     "output_type": "stream",
     "text": [
      "24/24 [==============================] - 0s 896us/step - loss: 0.3219 - accuracy: 0.8373\n",
      "Epoch 82/100\n",
      "24/24 [==============================] - 0s 824us/step - loss: 0.3198 - accuracy: 0.8373\n",
      "Epoch 83/100\n",
      "24/24 [==============================] - 0s 824us/step - loss: 0.3178 - accuracy: 0.8373\n",
      "Epoch 84/100\n",
      "24/24 [==============================] - 0s 780us/step - loss: 0.3158 - accuracy: 0.8400\n",
      "Epoch 85/100\n",
      "24/24 [==============================] - 0s 737us/step - loss: 0.3138 - accuracy: 0.8427\n",
      "Epoch 86/100\n",
      "24/24 [==============================] - 0s 781us/step - loss: 0.3120 - accuracy: 0.8440\n",
      "Epoch 87/100\n",
      "24/24 [==============================] - 0s 824us/step - loss: 0.3101 - accuracy: 0.8453\n",
      "Epoch 88/100\n",
      "24/24 [==============================] - 0s 781us/step - loss: 0.3083 - accuracy: 0.8467\n",
      "Epoch 89/100\n",
      "24/24 [==============================] - 0s 737us/step - loss: 0.3066 - accuracy: 0.8493\n",
      "Epoch 90/100\n",
      "24/24 [==============================] - 0s 737us/step - loss: 0.3048 - accuracy: 0.8547\n",
      "Epoch 91/100\n",
      "24/24 [==============================] - 0s 737us/step - loss: 0.3032 - accuracy: 0.8547\n",
      "Epoch 92/100\n",
      "24/24 [==============================] - 0s 737us/step - loss: 0.3017 - accuracy: 0.8547\n",
      "Epoch 93/100\n",
      "24/24 [==============================] - 0s 737us/step - loss: 0.3000 - accuracy: 0.8573\n",
      "Epoch 94/100\n",
      "24/24 [==============================] - 0s 781us/step - loss: 0.2986 - accuracy: 0.8573\n",
      "Epoch 95/100\n",
      "24/24 [==============================] - 0s 737us/step - loss: 0.2972 - accuracy: 0.8600\n",
      "Epoch 96/100\n",
      "24/24 [==============================] - 0s 781us/step - loss: 0.2957 - accuracy: 0.8627\n",
      "Epoch 97/100\n",
      "24/24 [==============================] - 0s 737us/step - loss: 0.2942 - accuracy: 0.8640\n",
      "Epoch 98/100\n",
      "24/24 [==============================] - 0s 737us/step - loss: 0.2930 - accuracy: 0.8653\n",
      "Epoch 99/100\n",
      "24/24 [==============================] - 0s 780us/step - loss: 0.2917 - accuracy: 0.8653\n",
      "Epoch 100/100\n",
      "24/24 [==============================] - 0s 980us/step - loss: 0.2904 - accuracy: 0.8653\n"
     ]
    }
   ],
   "source": [
    "# Training the model with the nonlinear data\n",
    "model_moon = nn_model.fit(X_moon_train_scaled, y_moon_train, epochs=100, shuffle=True)"
   ]
  },
  {
   "cell_type": "code",
   "execution_count": 18,
   "id": "a32d7ae2",
   "metadata": {},
   "outputs": [
    {
     "data": {
      "text/plain": [
       "<AxesSubplot:>"
      ]
     },
     "execution_count": 18,
     "metadata": {},
     "output_type": "execute_result"
    },
    {
     "data": {
      "image/png": "[encoded data removed]",
      "text/plain": [
       "<Figure size 432x288 with 1 Axes>"
      ]
     },
     "metadata": {
      "needs_background": "light"
     },
     "output_type": "display_data"
    }
   ],
   "source": [
    "# Create a DataFrame containing training history\n",
    "history_df = pd.DataFrame(model_moon.history, index=range(1,len(model_moon.history[\"loss\"])+1))\n",
    "\n",
    "# Plot the loss\n",
    "history_df.plot(y=\"loss\")"
   ]
  },
  {
   "cell_type": "code",
   "execution_count": 19,
   "id": "ebe4f5da",
   "metadata": {},
   "outputs": [
    {
     "data": {
      "text/plain": [
       "<AxesSubplot:>"
      ]
     },
     "execution_count": 19,
     "metadata": {},
     "output_type": "execute_result"
    },
    {
     "data": {
      "image/png": "[encoded data removed]",
      "text/plain": [
       "<Figure size 432x288 with 1 Axes>"
      ]
     },
     "metadata": {
      "needs_background": "light"
     },
     "output_type": "display_data"
    }
   ],
   "source": [
    "# Plot the accuracy\n",
    "history_df.plot(y=\"accuracy\")"
   ]
  },
  {
   "cell_type": "code",
   "execution_count": 20,
   "id": "953bd1d8",
   "metadata": {},
   "outputs": [],
   "source": [
    "# Generate our new Sequential model\n",
    "new_model = tf.keras.models.Sequential()"
   ]
  },
  {
   "cell_type": "code",
   "execution_count": 21,
   "id": "c8f0b8c2",
   "metadata": {},
   "outputs": [],
   "source": [
    "# Add the input and hidden layer\n",
    "number_inputs = 2\n",
    "number_hidden_nodes = 6\n",
    "\n",
    "new_model.add(tf.keras.layers.Dense(units=number_hidden_nodes, activation=\"relu\", input_dim=number_inputs))\n",
    "\n",
    "# Add the output layer that uses a probability activation function\n",
    "new_model.add(tf.keras.layers.Dense(units=1, activation=\"sigmoid\"))"
   ]
  },
  {
   "cell_type": "code",
   "execution_count": 22,
   "id": "71c000d5",
   "metadata": {
    "scrolled": true
   },
   "outputs": [
    {
     "name": "stdout",
     "output_type": "stream",
     "text": [
      "Epoch 1/100\n",
      "24/24 [==============================] - 0s 671us/step - loss: 0.5857 - accuracy: 0.5920\n",
      "Epoch 2/100\n",
      "24/24 [==============================] - 0s 520us/step - loss: 0.5623 - accuracy: 0.6227\n",
      "Epoch 3/100\n",
      "24/24 [==============================] - 0s 477us/step - loss: 0.5418 - accuracy: 0.6627\n",
      "Epoch 4/100\n",
      "24/24 [==============================] - 0s 477us/step - loss: 0.5223 - accuracy: 0.6973\n",
      "Epoch 5/100\n",
      "24/24 [==============================] - 0s 520us/step - loss: 0.5035 - accuracy: 0.7333\n",
      "Epoch 6/100\n",
      "24/24 [==============================] - 0s 477us/step - loss: 0.4845 - accuracy: 0.7533\n",
      "Epoch 7/100\n",
      "24/24 [==============================] - 0s 477us/step - loss: 0.4660 - accuracy: 0.7640\n",
      "Epoch 8/100\n",
      "24/24 [==============================] - 0s 477us/step - loss: 0.4479 - accuracy: 0.7787\n",
      "Epoch 9/100\n",
      "24/24 [==============================] - 0s 520us/step - loss: 0.4307 - accuracy: 0.7880\n",
      "Epoch 10/100\n",
      "24/24 [==============================] - 0s 564us/step - loss: 0.4142 - accuracy: 0.7973\n",
      "Epoch 11/100\n",
      "24/24 [==============================] - 0s 520us/step - loss: 0.3987 - accuracy: 0.8027\n",
      "Epoch 12/100\n",
      "24/24 [==============================] - 0s 520us/step - loss: 0.3843 - accuracy: 0.8080\n",
      "Epoch 13/100\n",
      "24/24 [==============================] - 0s 519us/step - loss: 0.3705 - accuracy: 0.8200\n",
      "Epoch 14/100\n",
      "24/24 [==============================] - 0s 477us/step - loss: 0.3581 - accuracy: 0.8280\n",
      "Epoch 15/100\n",
      "24/24 [==============================] - 0s 520us/step - loss: 0.3465 - accuracy: 0.8373\n",
      "Epoch 16/100\n",
      "24/24 [==============================] - 0s 477us/step - loss: 0.3359 - accuracy: 0.8480\n",
      "Epoch 17/100\n",
      "24/24 [==============================] - 0s 477us/step - loss: 0.3259 - accuracy: 0.8587\n",
      "Epoch 18/100\n",
      "24/24 [==============================] - 0s 520us/step - loss: 0.3170 - accuracy: 0.8613\n",
      "Epoch 19/100\n",
      "24/24 [==============================] - 0s 477us/step - loss: 0.3084 - accuracy: 0.8653\n",
      "Epoch 20/100\n",
      "24/24 [==============================] - 0s 520us/step - loss: 0.3006 - accuracy: 0.8707\n",
      "Epoch 21/100\n",
      "24/24 [==============================] - 0s 624us/step - loss: 0.2937 - accuracy: 0.8733\n",
      "Epoch 22/100\n",
      "24/24 [==============================] - 0s 607us/step - loss: 0.2872 - accuracy: 0.8747\n",
      "Epoch 23/100\n",
      "24/24 [==============================] - 0s 620us/step - loss: 0.2813 - accuracy: 0.8747\n",
      "Epoch 24/100\n",
      "24/24 [==============================] - 0s 607us/step - loss: 0.2759 - accuracy: 0.8787\n",
      "Epoch 25/100\n",
      "24/24 [==============================] - 0s 607us/step - loss: 0.2708 - accuracy: 0.8800\n",
      "Epoch 26/100\n",
      "24/24 [==============================] - 0s 607us/step - loss: 0.2662 - accuracy: 0.8867\n",
      "Epoch 27/100\n",
      "24/24 [==============================] - 0s 607us/step - loss: 0.2619 - accuracy: 0.8893\n",
      "Epoch 28/100\n",
      "24/24 [==============================] - 0s 653us/step - loss: 0.2579 - accuracy: 0.8920\n",
      "Epoch 29/100\n",
      "24/24 [==============================] - 0s 670us/step - loss: 0.2543 - accuracy: 0.8973\n",
      "Epoch 30/100\n",
      "24/24 [==============================] - 0s 607us/step - loss: 0.2509 - accuracy: 0.9000\n",
      "Epoch 31/100\n",
      "24/24 [==============================] - 0s 607us/step - loss: 0.2477 - accuracy: 0.9013\n",
      "Epoch 32/100\n",
      "24/24 [==============================] - 0s 607us/step - loss: 0.2448 - accuracy: 0.9013\n",
      "Epoch 33/100\n",
      "24/24 [==============================] - 0s 654us/step - loss: 0.2421 - accuracy: 0.9013\n",
      "Epoch 34/100\n",
      "24/24 [==============================] - 0s 646us/step - loss: 0.2396 - accuracy: 0.9027\n",
      "Epoch 35/100\n",
      "24/24 [==============================] - 0s 629us/step - loss: 0.2371 - accuracy: 0.9013\n",
      "Epoch 36/100\n",
      "24/24 [==============================] - 0s 621us/step - loss: 0.2347 - accuracy: 0.9040\n",
      "Epoch 37/100\n",
      "24/24 [==============================] - 0s 650us/step - loss: 0.2326 - accuracy: 0.9040\n",
      "Epoch 38/100\n",
      "24/24 [==============================] - 0s 671us/step - loss: 0.2304 - accuracy: 0.9053\n",
      "Epoch 39/100\n",
      "24/24 [==============================] - 0s 607us/step - loss: 0.2284 - accuracy: 0.9067\n",
      "Epoch 40/100\n",
      "24/24 [==============================] - 0s 631us/step - loss: 0.2265 - accuracy: 0.9067\n",
      "Epoch 41/100\n",
      "24/24 [==============================] - 0s 660us/step - loss: 0.2249 - accuracy: 0.9067\n",
      "Epoch 42/100\n",
      "24/24 [==============================] - 0s 607us/step - loss: 0.2227 - accuracy: 0.9080\n",
      "Epoch 43/100\n",
      "24/24 [==============================] - 0s 650us/step - loss: 0.2208 - accuracy: 0.9120\n",
      "Epoch 44/100\n",
      "24/24 [==============================] - 0s 650us/step - loss: 0.2190 - accuracy: 0.9120\n",
      "Epoch 45/100\n",
      "24/24 [==============================] - 0s 650us/step - loss: 0.2173 - accuracy: 0.9107\n",
      "Epoch 46/100\n",
      "24/24 [==============================] - 0s 621us/step - loss: 0.2155 - accuracy: 0.9120\n",
      "Epoch 47/100\n",
      "24/24 [==============================] - 0s 650us/step - loss: 0.2138 - accuracy: 0.9133\n",
      "Epoch 48/100\n",
      "24/24 [==============================] - 0s 607us/step - loss: 0.2122 - accuracy: 0.9147\n",
      "Epoch 49/100\n",
      "24/24 [==============================] - 0s 694us/step - loss: 0.2107 - accuracy: 0.9160\n",
      "Epoch 50/100\n",
      "24/24 [==============================] - 0s 607us/step - loss: 0.2089 - accuracy: 0.9160\n",
      "Epoch 51/100\n",
      "24/24 [==============================] - 0s 607us/step - loss: 0.2072 - accuracy: 0.9173\n",
      "Epoch 52/100\n",
      "24/24 [==============================] - 0s 668us/step - loss: 0.2056 - accuracy: 0.9160\n",
      "Epoch 53/100\n",
      "24/24 [==============================] - 0s 607us/step - loss: 0.2040 - accuracy: 0.9173\n",
      "Epoch 54/100\n",
      "24/24 [==============================] - 0s 682us/step - loss: 0.2025 - accuracy: 0.9173\n",
      "Epoch 55/100\n",
      "24/24 [==============================] - 0s 650us/step - loss: 0.2010 - accuracy: 0.9187\n",
      "Epoch 56/100\n",
      "24/24 [==============================] - 0s 607us/step - loss: 0.1994 - accuracy: 0.9187\n",
      "Epoch 57/100\n",
      "24/24 [==============================] - 0s 564us/step - loss: 0.1978 - accuracy: 0.9200\n",
      "Epoch 58/100\n",
      "24/24 [==============================] - 0s 607us/step - loss: 0.1965 - accuracy: 0.9200\n",
      "Epoch 59/100\n",
      "24/24 [==============================] - 0s 607us/step - loss: 0.1948 - accuracy: 0.9213\n",
      "Epoch 60/100\n",
      "24/24 [==============================] - 0s 607us/step - loss: 0.1933 - accuracy: 0.9227\n",
      "Epoch 61/100\n",
      "24/24 [==============================] - 0s 607us/step - loss: 0.1917 - accuracy: 0.9227\n",
      "Epoch 62/100\n",
      "24/24 [==============================] - 0s 607us/step - loss: 0.1902 - accuracy: 0.9240\n",
      "Epoch 63/100\n",
      "24/24 [==============================] - 0s 579us/step - loss: 0.1887 - accuracy: 0.9240\n",
      "Epoch 64/100\n",
      "24/24 [==============================] - 0s 611us/step - loss: 0.1872 - accuracy: 0.9240\n",
      "Epoch 65/100\n",
      "24/24 [==============================] - 0s 650us/step - loss: 0.1857 - accuracy: 0.9240\n",
      "Epoch 66/100\n",
      "24/24 [==============================] - 0s 607us/step - loss: 0.1841 - accuracy: 0.9240\n",
      "Epoch 67/100\n",
      "24/24 [==============================] - 0s 564us/step - loss: 0.1826 - accuracy: 0.9253\n",
      "Epoch 68/100\n",
      "24/24 [==============================] - 0s 607us/step - loss: 0.1811 - accuracy: 0.9267\n",
      "Epoch 69/100\n",
      "24/24 [==============================] - 0s 570us/step - loss: 0.1798 - accuracy: 0.9280\n",
      "Epoch 70/100\n",
      "24/24 [==============================] - 0s 653us/step - loss: 0.1780 - accuracy: 0.9280\n",
      "Epoch 71/100\n",
      "24/24 [==============================] - 0s 607us/step - loss: 0.1766 - accuracy: 0.9280\n",
      "Epoch 72/100\n",
      "24/24 [==============================] - 0s 564us/step - loss: 0.1750 - accuracy: 0.9280\n",
      "Epoch 73/100\n",
      "24/24 [==============================] - 0s 607us/step - loss: 0.1735 - accuracy: 0.9280\n",
      "Epoch 74/100\n",
      "24/24 [==============================] - 0s 564us/step - loss: 0.1720 - accuracy: 0.9280\n",
      "Epoch 75/100\n",
      "24/24 [==============================] - 0s 607us/step - loss: 0.1704 - accuracy: 0.9293\n",
      "Epoch 76/100\n",
      "24/24 [==============================] - 0s 564us/step - loss: 0.1688 - accuracy: 0.9293\n",
      "Epoch 77/100\n",
      "24/24 [==============================] - 0s 564us/step - loss: 0.1674 - accuracy: 0.9307\n",
      "Epoch 78/100\n",
      "24/24 [==============================] - 0s 607us/step - loss: 0.1657 - accuracy: 0.9320\n",
      "Epoch 79/100\n",
      "24/24 [==============================] - 0s 564us/step - loss: 0.1641 - accuracy: 0.9333\n",
      "Epoch 80/100\n",
      "24/24 [==============================] - 0s 564us/step - loss: 0.1625 - accuracy: 0.9360\n",
      "Epoch 81/100\n"
     ]
    },
    {
     "name": "stdout",
     "output_type": "stream",
     "text": [
      "24/24 [==============================] - 0s 520us/step - loss: 0.1611 - accuracy: 0.9387\n",
      "Epoch 82/100\n",
      "24/24 [==============================] - 0s 520us/step - loss: 0.1594 - accuracy: 0.9387\n",
      "Epoch 83/100\n",
      "24/24 [==============================] - 0s 520us/step - loss: 0.1579 - accuracy: 0.9400\n",
      "Epoch 84/100\n",
      "24/24 [==============================] - 0s 564us/step - loss: 0.1564 - accuracy: 0.9400\n",
      "Epoch 85/100\n",
      "24/24 [==============================] - 0s 564us/step - loss: 0.1549 - accuracy: 0.9400\n",
      "Epoch 86/100\n",
      "24/24 [==============================] - 0s 520us/step - loss: 0.1533 - accuracy: 0.9400\n",
      "Epoch 87/100\n",
      "24/24 [==============================] - 0s 520us/step - loss: 0.1519 - accuracy: 0.9413\n",
      "Epoch 88/100\n",
      "24/24 [==============================] - 0s 520us/step - loss: 0.1504 - accuracy: 0.9413\n",
      "Epoch 89/100\n",
      "24/24 [==============================] - 0s 477us/step - loss: 0.1489 - accuracy: 0.9413\n",
      "Epoch 90/100\n",
      "24/24 [==============================] - 0s 477us/step - loss: 0.1475 - accuracy: 0.9427\n",
      "Epoch 91/100\n",
      "24/24 [==============================] - 0s 434us/step - loss: 0.1460 - accuracy: 0.9427\n",
      "Epoch 92/100\n",
      "24/24 [==============================] - 0s 477us/step - loss: 0.1446 - accuracy: 0.9427\n",
      "Epoch 93/100\n",
      "24/24 [==============================] - 0s 477us/step - loss: 0.1431 - accuracy: 0.9427\n",
      "Epoch 94/100\n",
      "24/24 [==============================] - 0s 477us/step - loss: 0.1417 - accuracy: 0.9427\n",
      "Epoch 95/100\n",
      "24/24 [==============================] - 0s 477us/step - loss: 0.1402 - accuracy: 0.9440\n",
      "Epoch 96/100\n",
      "24/24 [==============================] - 0s 482us/step - loss: 0.1389 - accuracy: 0.9440\n",
      "Epoch 97/100\n",
      "24/24 [==============================] - 0s 482us/step - loss: 0.1376 - accuracy: 0.9453\n",
      "Epoch 98/100\n",
      "24/24 [==============================] - 0s 476us/step - loss: 0.1360 - accuracy: 0.9453\n",
      "Epoch 99/100\n",
      "24/24 [==============================] - 0s 477us/step - loss: 0.1347 - accuracy: 0.9480\n",
      "Epoch 100/100\n",
      "24/24 [==============================] - 0s 477us/step - loss: 0.1332 - accuracy: 0.9480\n"
     ]
    }
   ],
   "source": [
    "# Compile the Sequential model together and customize metrics\n",
    "new_model.compile(loss=\"binary_crossentropy\", optimizer=\"adam\", metrics=[\"accuracy\"])\n",
    "\n",
    "# Fit the model to the training data\n",
    "new_fit_model = new_model.fit(X_moon_train_scaled, y_moon_train, epochs=100, shuffle=True)"
   ]
  },
  {
   "cell_type": "code",
   "execution_count": null,
   "id": "1b406a40",
   "metadata": {},
   "outputs": [],
   "source": []
  },
  {
   "cell_type": "code",
   "execution_count": null,
   "id": "9b2892e3",
   "metadata": {},
   "outputs": [],
   "source": []
  },
  {
   "cell_type": "code",
   "execution_count": null,
   "id": "2b36dd57",
   "metadata": {},
   "outputs": [],
   "source": []
  },
  {
   "cell_type": "code",
   "execution_count": null,
   "id": "0b6a565f",
   "metadata": {},
   "outputs": [],
   "source": []
  },
  {
   "cell_type": "code",
   "execution_count": null,
   "id": "19f7df14",
   "metadata": {},
   "outputs": [],
   "source": []
  },
  {
   "cell_type": "code",
   "execution_count": null,
   "id": "74abeeaa",
   "metadata": {},
   "outputs": [],
   "source": []
  },
  {
   "cell_type": "code",
   "execution_count": null,
   "id": "de030384",
   "metadata": {},
   "outputs": [],
   "source": []
  },
  {
   "cell_type": "code",
   "execution_count": null,
   "id": "9f6c7c7a",
   "metadata": {},
   "outputs": [],
   "source": []
  }
 ],
 "metadata": {
  "kernelspec": {
   "display_name": "mlenv",
   "language": "python",
   "name": "mlenv"
  },
  "language_info": {
   "codemirror_mode": {
    "name": "ipython",
    "version": 3
   },
   "file_extension": ".py",
   "mimetype": "text/x-python",
   "name": "python",
   "nbconvert_exporter": "python",
   "pygments_lexer": "ipython3",
   "version": "3.7.10"
  }
 },
 "nbformat": 4,
 "nbformat_minor": 5
}
